{
 "cells": [
  {
   "cell_type": "code",
   "execution_count": 1,
   "metadata": {},
   "outputs": [],
   "source": [
    "import data\n",
    "import gensim\n",
    "import neural_net\n",
    "import torch\n",
    "import numpy as np"
   ]
  },
  {
   "cell_type": "code",
   "execution_count": 2,
   "metadata": {},
   "outputs": [],
   "source": [
    "train_df, test_df, train_sentence_list, train_class_list, test_sentence_list, test_class_list = data.get_data()"
   ]
  },
  {
   "cell_type": "code",
   "execution_count": 3,
   "metadata": {},
   "outputs": [],
   "source": [
    "word2vec_model = gensim.models.KeyedVectors.load_word2vec_format('../model/GoogleNews-vectors-negative300.bin', binary=True)"
   ]
  },
  {
   "cell_type": "code",
   "execution_count": 4,
   "metadata": {},
   "outputs": [],
   "source": [
    "def bring_nn_input(data_list):\n",
    "    vec_list = []\n",
    "\n",
    "    for sentence in data_list:\n",
    "\n",
    "        count = 0\n",
    "        sum_vec = np.zeros(300)\n",
    "        \n",
    "        for word in sentence:\n",
    "            if word in word2vec_model:\n",
    "                sum_vec += word2vec_model[word]\n",
    "                count += 1\n",
    "        \n",
    "        if count != 0:\n",
    "            vec = (sum_vec / count)\n",
    "    \n",
    "        vec_list.append(vec.tolist())\n",
    "\n",
    "    return torch.Tensor(vec_list)"
   ]
  },
  {
   "cell_type": "code",
   "execution_count": 5,
   "metadata": {},
   "outputs": [],
   "source": [
    "train_vec = bring_nn_input(train_sentence_list)\n",
    "test_vec = bring_nn_input(test_sentence_list)"
   ]
  },
  {
   "cell_type": "code",
   "execution_count": 6,
   "metadata": {},
   "outputs": [],
   "source": [
    "neuralNet = neural_net.NeuralNet()\n",
    "loss_fn = torch.nn.BCELoss()\n",
    "optimizer = torch.optim.Adam(neuralNet.parameters(), lr=0.001)"
   ]
  },
  {
   "cell_type": "code",
   "execution_count": 10,
   "metadata": {},
   "outputs": [],
   "source": [
    "def train_one_epoch(epoch_index):\n",
    "    running_loss = 0.\n",
    "    last_loss = 0.\n",
    "    \n",
    "    # Here, we use enumerate(training_loader) instead of\n",
    "    # iter(training_loader) so that we can track the batch\n",
    "    # index and do some intra-epoch reporting\n",
    "    for i in range(10000):\n",
    "        # Every data instance is an input + label pair\n",
    "        batch_mask = np.random.choice(train_vec.shape[0], 100)\n",
    "        inputs = train_vec[batch_mask]\n",
    "        labels = torch.Tensor(train_class_list)[batch_mask]\n",
    "        \n",
    "        # Zero your gradients for every batch!\n",
    "        optimizer.zero_grad()\n",
    "        \n",
    "        # Make predictions for this batch\n",
    "        outputs = neuralNet(inputs)\n",
    "        \n",
    "        # Compute the loss and its gradients\n",
    "        loss = loss_fn(outputs, labels)\n",
    "        loss.backward()\n",
    "        \n",
    "        # Adjust learning weights\n",
    "        optimizer.step()\n",
    "        \n",
    "        # Gather data and report\n",
    "        running_loss += loss.item()\n",
    "        if i % 1000 == 999:\n",
    "            last_loss = running_loss / 1000 # loss per batch\n",
    "            print('  batch {} loss: {}'.format(i + 1, last_loss))\n",
    "            # tb_x = epoch_index * len(training_loader) + i + 1\n",
    "            # tb_writer.add_scalar('Loss/train', last_loss, tb_x)\n",
    "            running_loss = 0.\n",
    "            \n",
    "    return last_loss"
   ]
  },
  {
   "cell_type": "code",
   "execution_count": 11,
   "metadata": {},
   "outputs": [
    {
     "name": "stdout",
     "output_type": "stream",
     "text": [
      "EPOCH 1:\n",
      "  batch 1000 loss: 37.895\n",
      "  batch 2000 loss: 37.588\n",
      "  batch 3000 loss: 37.739\n",
      "  batch 4000 loss: 37.865\n",
      "  batch 5000 loss: 37.819\n",
      "  batch 6000 loss: 37.944\n",
      "  batch 7000 loss: 38.02\n",
      "  batch 8000 loss: 37.816\n",
      "  batch 9000 loss: 37.811\n",
      "  batch 10000 loss: 37.753\n",
      "LOSS train 37.753 valid 50.0\n",
      "EPOCH 2:\n",
      "  batch 1000 loss: 37.937\n",
      "  batch 2000 loss: 38.377\n",
      "  batch 3000 loss: 37.862\n",
      "  batch 4000 loss: 37.958\n",
      "  batch 5000 loss: 37.659\n",
      "  batch 6000 loss: 37.558\n",
      "  batch 7000 loss: 37.912\n",
      "  batch 8000 loss: 37.946\n",
      "  batch 9000 loss: 37.963\n",
      "  batch 10000 loss: 37.986\n",
      "LOSS train 37.986 valid 50.0\n",
      "EPOCH 3:\n",
      "  batch 1000 loss: 37.93\n",
      "  batch 2000 loss: 37.792\n",
      "  batch 3000 loss: 38.3\n",
      "  batch 4000 loss: 37.843\n",
      "  batch 5000 loss: 37.844\n",
      "  batch 6000 loss: 37.926\n",
      "  batch 7000 loss: 37.849\n",
      "  batch 8000 loss: 37.633\n",
      "  batch 9000 loss: 37.957\n",
      "  batch 10000 loss: 37.896\n",
      "LOSS train 37.896 valid 50.0\n",
      "EPOCH 4:\n",
      "  batch 1000 loss: 37.861\n",
      "  batch 2000 loss: 37.731\n",
      "  batch 3000 loss: 37.603\n",
      "  batch 4000 loss: 37.647\n",
      "  batch 5000 loss: 37.974\n",
      "  batch 6000 loss: 37.923\n",
      "  batch 7000 loss: 38.109\n",
      "  batch 8000 loss: 37.847\n",
      "  batch 9000 loss: 37.926\n",
      "  batch 10000 loss: 37.917\n",
      "LOSS train 37.917 valid 50.0\n",
      "EPOCH 5:\n",
      "  batch 1000 loss: 38.035\n",
      "  batch 2000 loss: 37.944\n",
      "  batch 3000 loss: 37.696\n",
      "  batch 4000 loss: 37.675\n",
      "  batch 5000 loss: 38.001\n",
      "  batch 6000 loss: 37.913\n",
      "  batch 7000 loss: 37.973\n",
      "  batch 8000 loss: 38.0\n",
      "  batch 9000 loss: 37.907\n",
      "  batch 10000 loss: 37.951\n",
      "LOSS train 37.951 valid 50.0\n"
     ]
    }
   ],
   "source": [
    "# Initializing in a separate cell so we can easily add more epochs to the same run\n",
    "# timestamp = datetime.now().strftime('%Y%m%d_%H%M%S')\n",
    "# writer = SummaryWriter('runs/fashion_trainer_{}'.format(timestamp))\n",
    "epoch_number = 0\n",
    "\n",
    "EPOCHS = 5\n",
    "\n",
    "best_vloss = 1_000_000.\n",
    "\n",
    "for epoch in range(EPOCHS):\n",
    "    print('EPOCH {}:'.format(epoch_number + 1))\n",
    "    \n",
    "    # Make sure gradient tracking is on, and do a pass over the data\n",
    "    neuralNet.train(True)\n",
    "    avg_loss = train_one_epoch(epoch_number)\n",
    "    \n",
    "    # We don't need gradients on to do reporting\n",
    "    neuralNet.train(False)\n",
    "    \n",
    "    running_vloss = 0.0\n",
    "    # for i, vdata in enumerate(validation_loader):\n",
    "    vinputs = test_vec\n",
    "    vlabels = torch.Tensor(test_class_list)\n",
    "\n",
    "    voutputs = neuralNet(vinputs)\n",
    "\n",
    "    vloss = loss_fn(voutputs, vlabels)\n",
    "    running_vloss += vloss\n",
    "    \n",
    "    avg_vloss = running_vloss # / (i + 1)\n",
    "    print('LOSS train {} valid {}'.format(avg_loss, avg_vloss))\n",
    "    \n",
    "    # Log the running loss averaged per batch\n",
    "    # for both training and validation\n",
    "    # writer.add_scalars('Training vs. Validation Loss',\n",
    "    #                 { 'Training' : avg_loss, 'Validation' : avg_vloss },\n",
    "    #                 epoch_number + 1)\n",
    "    # writer.flush()\n",
    "    \n",
    "    # # Track best performance, and save the model's state\n",
    "    # if avg_vloss < best_vloss:\n",
    "    #     best_vloss = avg_vloss\n",
    "    #     model_path = 'model_{}_{}'.format(timestamp, epoch_number)\n",
    "    #     torch.save(neuralNet.state_dict(), model_path)\n",
    "    \n",
    "    epoch_number += 1"
   ]
  }
 ],
 "metadata": {
  "kernelspec": {
   "display_name": "Python 3.9.9 64-bit",
   "language": "python",
   "name": "python3"
  },
  "language_info": {
   "codemirror_mode": {
    "name": "ipython",
    "version": 3
   },
   "file_extension": ".py",
   "mimetype": "text/x-python",
   "name": "python",
   "nbconvert_exporter": "python",
   "pygments_lexer": "ipython3",
   "version": "3.9.9"
  },
  "orig_nbformat": 4,
  "vscode": {
   "interpreter": {
    "hash": "397704579725e15f5c7cb49fe5f0341eb7531c82d19f2c29d197e8b64ab5776b"
   }
  }
 },
 "nbformat": 4,
 "nbformat_minor": 2
}
